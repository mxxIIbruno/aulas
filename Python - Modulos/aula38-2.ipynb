{
 "cells": [
  {
   "cell_type": "code",
   "execution_count": 2,
   "metadata": {},
   "outputs": [
    {
     "name": "stdout",
     "output_type": "stream",
     "text": [
      "\n",
      "Disparando 127.0.0.1 com 32 bytes de dados:\n",
      "Resposta de 127.0.0.1: bytes=32 tempo<1ms TTL=128\n",
      "Resposta de 127.0.0.1: bytes=32 tempo<1ms TTL=128\n",
      "Resposta de 127.0.0.1: bytes=32 tempo<1ms TTL=128\n",
      "Resposta de 127.0.0.1: bytes=32 tempo<1ms TTL=128\n",
      "\n",
      "Estat�sticas do Ping para 127.0.0.1:\n",
      "    Pacotes: Enviados = 4, Recebidos = 4, Perdidos = 0 (0% de\n",
      "             perda),\n",
      "Aproximar um n�mero redondo de vezes em milissegundos:\n",
      "    M�nimo = 0ms, M�ximo = 0ms, M�dia = 0ms\n"
     ]
    }
   ],
   "source": [
    "!ping 127.0.0.1"
   ]
  }
 ],
 "metadata": {
  "kernelspec": {
   "display_name": "venv",
   "language": "python",
   "name": "python3"
  },
  "language_info": {
   "codemirror_mode": {
    "name": "ipython",
    "version": 3
   },
   "file_extension": ".py",
   "mimetype": "text/x-python",
   "name": "python",
   "nbconvert_exporter": "python",
   "pygments_lexer": "ipython3",
   "version": "3.11.4"
  }
 },
 "nbformat": 4,
 "nbformat_minor": 2
}
