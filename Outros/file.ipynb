{
 "cells": [
  {
   "cell_type": "markdown",
   "metadata": {},
   "source": [
    "# Lista de Tarefas"
   ]
  },
  {
   "cell_type": "code",
   "execution_count": 26,
   "metadata": {},
   "outputs": [],
   "source": [
    "import os"
   ]
  },
  {
   "cell_type": "code",
   "execution_count": 27,
   "metadata": {},
   "outputs": [],
   "source": [
    "class MyTasks:\n",
    "    data = list()\n",
    "    condition = True\n",
    "\n",
    "    def __init__(self) -> None:\n",
    "        self.loop()\n",
    "    \n",
    "    def loop(self):\n",
    "        while self.condition:\n",
    "            self.show_options_for_user()\n",
    "            command = input('Digite o comando desejado: ').strip()\n",
    "            self.select_command(command)\n",
    "\n",
    "    def show_options_for_user(self):\n",
    "        print(\n",
    "            \"\\nComandos: adicionar, listar, limpar, apagar, sair, marcar\" +\\\n",
    "            \"\\n#########################################################\"\n",
    "        )\n",
    "\n",
    "    def select_command(self, value_command: str):\n",
    "        if value_command == 'sair':\n",
    "            self.exit_command()\n",
    "        elif value_command == 'limpar':\n",
    "            self.clear_command()\n",
    "        elif value_command == 'listar':\n",
    "            self.list_command()\n",
    "        elif value_command == 'adicionar':\n",
    "            self.add_command()\n",
    "        elif value_command == 'apagar':\n",
    "            self.remove_command()\n",
    "        elif value_command == 'marcar':\n",
    "            self.mark_command()\n",
    "        else:\n",
    "            print(\n",
    "                f'Erro: comando \"{value_command}\" não encontrado!\\n'\n",
    "            )\n",
    "\n",
    "    def exit_command(self):\n",
    "        self.condition = not self.condition\n",
    "        print('Até a proxima!')\n",
    "    \n",
    "    def clear_command(self):\n",
    "        os.system('cls')\n",
    "    \n",
    "    def list_command(self):\n",
    "        for item in self.data:\n",
    "            print(item)\n",
    "\n",
    "    def add_command(self):\n",
    "        var_title = input('Digite o titulo da tarefa: ')\n",
    "        var_descrition = input('Digite a descrição dessa tarefa: ')\n",
    "\n",
    "        self.data.append({var_title: {\n",
    "            'status': False,\n",
    "            'descrition': var_descrition\n",
    "        }})\n",
    "    \n",
    "    def remove_command(self):\n",
    "        task_select = input('Digite o titulo da tarefa: ').strip()\n",
    "\n",
    "        for item in self.data:\n",
    "            key, _ = item\n",
    "            if task_select == key:\n",
    "                self.data.remove(item)\n",
    "                return\n",
    "        \n",
    "        print(\n",
    "            'Erro: Titulo da tarefa não encrontrado:' + \\\n",
    "            '\\nTitulo: {}!'.format(task_select)\n",
    "        )\n",
    "\n",
    "    def mark_command(self):\n",
    "        task_select = input('Digite o titulo que você deseja marcar: ').strip()\n",
    "\n",
    "        for item in self.data:\n",
    "            key, value = item\n",
    "            if task_select == key:\n",
    "                value['status'] = not value['status']\n",
    "                return\n",
    "        \n",
    "        print(\n",
    "            'Erro: Tarefa não existe para marcar:' + \\\n",
    "            '\\nTitulo: {}\\n'.format(task_select)\n",
    "        )\n",
    "\n"
   ]
  },
  {
   "cell_type": "code",
   "execution_count": 29,
   "metadata": {},
   "outputs": [
    {
     "name": "stdout",
     "output_type": "stream",
     "text": [
      "\n",
      "Comandos: adicionar, listar, limpar, apagar, sair, marcar\n",
      "#########################################################\n",
      "Erro: comando \"Tomar cafe\" não encontrado!\n",
      "\n",
      "\n",
      "Comandos: adicionar, listar, limpar, apagar, sair, marcar\n",
      "#########################################################\n",
      "Erro: comando \"as\" não encontrado!\n",
      "\n",
      "\n",
      "Comandos: adicionar, listar, limpar, apagar, sair, marcar\n",
      "#########################################################\n",
      "Erro: comando \"\" não encontrado!\n",
      "\n",
      "\n",
      "Comandos: adicionar, listar, limpar, apagar, sair, marcar\n",
      "#########################################################\n",
      "\n",
      "Comandos: adicionar, listar, limpar, apagar, sair, marcar\n",
      "#########################################################\n",
      "\n",
      "Comandos: adicionar, listar, limpar, apagar, sair, marcar\n",
      "#########################################################\n",
      "Erro: comando \"Noite\" não encontrado!\n",
      "\n",
      "\n",
      "Comandos: adicionar, listar, limpar, apagar, sair, marcar\n",
      "#########################################################\n",
      "{'adicionar': {'status': False, 'descrition': 'Trablhar'}}\n",
      "\n",
      "Comandos: adicionar, listar, limpar, apagar, sair, marcar\n",
      "#########################################################\n",
      "Até a proxima!\n"
     ]
    }
   ],
   "source": [
    "my_object = MyTasks()"
   ]
  },
  {
   "cell_type": "code",
   "execution_count": 24,
   "metadata": {},
   "outputs": [
    {
     "name": "stdout",
     "output_type": "stream",
     "text": [
      "[ ] | Titulo: Tomar café\n",
      "\tDescrição: Descrition!\n"
     ]
    }
   ],
   "source": []
  },
  {
   "cell_type": "code",
   "execution_count": null,
   "metadata": {},
   "outputs": [],
   "source": []
  }
 ],
 "metadata": {
  "kernelspec": {
   "display_name": "Python 3",
   "language": "python",
   "name": "python3"
  },
  "language_info": {
   "codemirror_mode": {
    "name": "ipython",
    "version": 3
   },
   "file_extension": ".py",
   "mimetype": "text/x-python",
   "name": "python",
   "nbconvert_exporter": "python",
   "pygments_lexer": "ipython3",
   "version": "3.11.4"
  }
 },
 "nbformat": 4,
 "nbformat_minor": 2
}
